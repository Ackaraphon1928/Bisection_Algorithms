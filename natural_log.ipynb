{
 "cells": [
  {
   "cell_type": "markdown",
   "id": "a0a5c250-8e2d-4188-8bfb-3585a527e07d",
   "metadata": {},
   "source": [
    "# Find approximately value of ln(a)"
   ]
  },
  {
   "cell_type": "markdown",
   "id": "70010b47-43f3-4e01-8747-e34932f27cd7",
   "metadata": {},
   "source": [
    "As you know *ln(x)* is *log_e(x)* so just replace n to e (euler's number)."
   ]
  },
  {
   "cell_type": "markdown",
   "id": "14a9ae81-e4dc-47cf-918e-8407b9f854c1",
   "metadata": {},
   "source": [
    "In this instance I will find ln(e^3), note that e^3 ≈ 20.08553692 so Approximately value of ln(e^3) must approximate 3"
   ]
  },
  {
   "cell_type": "code",
   "execution_count": 15,
   "id": "b2263524-7b60-4a1c-8caf-436abd53ccd6",
   "metadata": {},
   "outputs": [
    {
     "name": "stdout",
     "output_type": "stream",
     "text": [
      "Try : 1 | ln(e^3) = 10.04276846\n",
      "Try : 2 | ln(e^3) = 5.02138423\n",
      "Try : 3 | ln(e^3) = 2.510692115\n",
      "Try : 4 | ln(e^3) = 3.7660381725\n",
      "Try : 5 | ln(e^3) = 3.1383651437499998\n",
      "Try : 6 | ln(e^3) = 2.824528629375\n",
      "Try : 7 | ln(e^3) = 2.9814468865625\n",
      "Try : 8 | ln(e^3) = 3.05990601515625\n",
      "Try : 9 | ln(e^3) = 3.0206764508593746\n",
      "Try : 10 | ln(e^3) = 3.0010616687109373\n",
      "Try : 11 | ln(e^3) = 2.9912542776367186\n",
      "Try : 12 | ln(e^3) = 2.996157973173828\n",
      "Try : 13 | ln(e^3) = 2.9986098209423826\n",
      "Try : 14 | ln(e^3) = 2.99983574482666\n",
      "Try : 15 | ln(e^3) = 3.0004487067687986\n",
      "Try : 16 | ln(e^3) = 3.0001422257977293\n",
      "Try : 17 | ln(e^3) = 2.9999889853121946\n",
      "Try : 18 | ln(e^3) = 3.000065605554962\n",
      "Try : 19 | ln(e^3) = 3.0000272954335783\n",
      "Try : 20 | ln(e^3) = 3.0000081403728864\n",
      "Try : 21 | ln(e^3) = 2.9999985628425403\n",
      "Try : 22 | ln(e^3) = 3.000003351607713\n",
      "Try : 23 | ln(e^3) = 3.0000009572251267\n",
      "Try : 24 | ln(e^3) = 2.9999997600338335\n",
      "Try : 25 | ln(e^3) = 3.00000035862948\n",
      "Try : 26 | ln(e^3) = 3.000000059331657\n",
      "Try : 27 | ln(e^3) = 2.999999909682745\n",
      "Try : 28 | ln(e^3) = 2.999999984507201\n",
      "Try : 29 | ln(e^3) = 3.000000021919429\n",
      "Try : 30 | ln(e^3) = 3.000000003213315\n",
      "Try : 31 | ln(e^3) = 2.999999993860258\n",
      "Try : 32 | ln(e^3) = 2.9999999985367864\n",
      "Try : 33 | ln(e^3) = 3.0000000008750507\n",
      "Try : 34 | ln(e^3) = 2.999999999705919\n",
      "Try : 35 | ln(e^3) = 3.000000000290485\n",
      "Try : 36 | ln(e^3) = 2.999999999998202\n",
      "Try : 37 | ln(e^3) = 2.9999999998520606\n",
      "Approximately value of ln(e^3) is : 2.9999999998520606\n"
     ]
    }
   ],
   "source": [
    "#inverse function of log_n(x) is n^x\n",
    "import math\n",
    "e_p3 = 20.08553692\n",
    "e = math.e\n",
    "U = e_p3 #this mean e^3\n",
    "L = 0\n",
    "threshold = 10e-10\n",
    "x = (U+L)/2\n",
    "cnt = 1\n",
    "while abs(e**x-e_p3)>threshold :\n",
    "    x = (U+L)/2\n",
    "    print(f\"Try : {cnt} |\",f\"ln(e^3) =\",x)\n",
    "    if e**x >= e_p3 :\n",
    "        U = x\n",
    "    else :\n",
    "        L = x\n",
    "    cnt+=1\n",
    "print(f\"Approximately value of ln(e^3) is : \"+str(x))\n"
   ]
  },
  {
   "cell_type": "markdown",
   "id": "15cc3bfa-0c2c-4414-8e55-a7045d9c4f36",
   "metadata": {},
   "source": [
    "### The final result is 2.9999999998520606 ≈ 3"
   ]
  }
 ],
 "metadata": {
  "kernelspec": {
   "display_name": "Python 3 (ipykernel)",
   "language": "python",
   "name": "python3"
  },
  "language_info": {
   "codemirror_mode": {
    "name": "ipython",
    "version": 3
   },
   "file_extension": ".py",
   "mimetype": "text/x-python",
   "name": "python",
   "nbconvert_exporter": "python",
   "pygments_lexer": "ipython3",
   "version": "3.11.7"
  }
 },
 "nbformat": 4,
 "nbformat_minor": 5
}
